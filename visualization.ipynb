{
 "cells": [
  {
   "cell_type": "code",
   "execution_count": null,
   "metadata": {},
   "outputs": [],
   "source": [
    "import re\n",
    "import numpy as np\n",
    "import pandas as pd\n",
    "import matplotlib.pyplot as plt\n",
    "from matplotlib.pyplot import MultipleLocator\n",
    "import matplotlib as mpl\n",
    "from collections import Counter\n",
    "from operator import itemgetter\n",
    "from scipy.interpolate import make_interp_spline"
   ]
  },
  {
   "cell_type": "code",
   "execution_count": null,
   "metadata": {},
   "outputs": [],
   "source": [
    "class DataVisualization:\n",
    "    def __init__(self):\n",
    "        pass\n",
    "        \n",
    "    def extract_data(self, name):\n",
    "        self.name = name\n",
    "        journal_list = []\n",
    "        year_list = []\n",
    "        with open(name, 'r') as f:\n",
    "            for line in f.readlines():\n",
    "                if '**[' in line:\n",
    "                    content = re.search('\\[(.*)\\]', line).group(1)\n",
    "                    year = re.search('\\d+', content).group()\n",
    "                    journal = re.search('\\D+', content).group()[:-1]\n",
    "                    journal_list.append(journal)\n",
    "                    year_list.append(year) \n",
    "        return journal_list, year_list\n",
    "   \n",
    "    def get_dummies(self, journal_list, year_list):\n",
    "        self.journal = Counter(journal_list).items()\n",
    "        self.journal = sorted(self.journal, key=itemgetter(1), reverse=True)\n",
    "        self.year = Counter(year_list).items()\n",
    "        self.year = sorted(self.year, key=itemgetter(0), reverse=False)\n",
    "        self.count_journal = len(self.journal)\n",
    "        self.count_year = len(self.year)\n",
    "        \n",
    "        \n",
    "    def journal_bar_plot(self, color):\n",
    "        cmap = mpl.cm.get_cmap(color, self.count_journal)\n",
    "        colors = cmap(np.linspace(0, 1, self.count_journal))\n",
    "        fig = plt.figure(figsize=(20,10))\n",
    "        labels, values = zip(*self.journal)\n",
    "        plt.bar(labels, values, color = colors) \n",
    "        plt.xticks(rotation=90)\n",
    "        plt.title(\"Ammounts of journals and booktitles used for \"+ self.name[:-3], fontsize=20)\n",
    "        plt.tick_params(labelsize=15)\n",
    "        plt.show()\n",
    "    \n",
    "    def year_line_chart(self, color):\n",
    "        plt.figure(figsize = (20,10))\n",
    "        labels, values = zip(*self.year)\n",
    "        labels = list(int(year) for year in labels)\n",
    "        x_smooth = np.linspace(min(labels), max(labels), 500) \n",
    "        y_smooth = make_interp_spline(labels, values)(x_smooth)\n",
    "        plt.plot(x_smooth, y_smooth, color=color, linewidth=1)\n",
    "        plt.title(\"Published year of paper used for \" + self.name[:-3], fontsize = 18)\n",
    "        plt.tick_params(labelsize = 15)\n",
    "        plt.xticks(rotation = 60)\n",
    "        x_major_locator = MultipleLocator(2)\n",
    "        ax = plt.gca()\n",
    "        ax.xaxis.set_major_locator(x_major_locator)\n",
    "        plt.show()"
   ]
  },
  {
   "cell_type": "code",
   "execution_count": null,
   "metadata": {},
   "outputs": [],
   "source": [
    "file = ['AD.md', 'OOD.md', 'OSR.md']\n",
    "colors = [\"plasma\", \"viridis\", \"RdBu\"]\n",
    "for id, name in enumerate(file):\n",
    "    d = DataVisualization()\n",
    "    journal, year = d.extract_data(name)\n",
    "    d.get_dummies(journal, year)\n",
    "    d.journal_bar_plot(colors[id])\n",
    "    d.year_line_chart(\"darkblue\")"
   ]
  }
 ],
 "metadata": {
  "kernelspec": {
   "display_name": "Python 3",
   "language": "python",
   "name": "python3"
  },
  "language_info": {
   "codemirror_mode": {
    "name": "ipython",
    "version": 3
   },
   "file_extension": ".py",
   "mimetype": "text/x-python",
   "name": "python",
   "nbconvert_exporter": "python",
   "pygments_lexer": "ipython3",
   "version": "3.8.5"
  }
 },
 "nbformat": 4,
 "nbformat_minor": 4
}
